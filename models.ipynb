{
  "nbformat": 4,
  "nbformat_minor": 0,
  "metadata": {
    "colab": {
      "provenance": []
    },
    "kernelspec": {
      "name": "python3",
      "display_name": "Python 3"
    },
    "language_info": {
      "name": "python"
    }
  },
  "cells": [
    {
      "cell_type": "code",
      "execution_count": 1,
      "metadata": {
        "colab": {
          "base_uri": "https://localhost:8080/"
        },
        "id": "YVfj0r9m8e_l",
        "outputId": "a139d7fa-4231-4d5f-fa42-075a7cfcd285"
      },
      "outputs": [
        {
          "output_type": "stream",
          "name": "stdout",
          "text": [
            "Data loaded successfully.\n",
            "Accuracy: 1.0\n",
            "Classification Report:\n",
            "               precision    recall  f1-score   support\n",
            "\n",
            "   completed       1.00      1.00      1.00      1927\n",
            "\n",
            "    accuracy                           1.00      1927\n",
            "   macro avg       1.00      1.00      1.00      1927\n",
            "weighted avg       1.00      1.00      1.00      1927\n",
            "\n",
            "Confusion Matrix:\n",
            " [[1927]]\n"
          ]
        }
      ],
      "source": [
        "#decision tree\n",
        "import pandas as pd\n",
        "from sklearn.model_selection import train_test_split\n",
        "from sklearn.tree import DecisionTreeClassifier\n",
        "from sklearn.metrics import accuracy_score, classification_report, confusion_matrix\n",
        "import numpy as np\n",
        "\n",
        "# Attempt to load data\n",
        "try:\n",
        "    # Ensure the path to your Excel file is correct\n",
        "    data = pd.read_excel(\"/content/completed_orders_with_scores.xlsx\")\n",
        "    print(\"Data loaded successfully.\")\n",
        "except Exception as e:\n",
        "    print(\"Error loading the data:\", e)\n",
        "    exit()\n",
        "\n",
        "# Verify and update feature and target names\n",
        "features = ['source points ', 'status points ', 'gro region point ', 'source detail points ', 'drop geo region points', 'platform point ']  # Adjusted names with spaces\n",
        "target = 'STATUS_orders'  # Updated to a likely target variable, adjust as necessary\n",
        "\n",
        "# Check if all features and target are in the DataFrame\n",
        "missing_columns = [col for col in features + [target] if col not in data.columns]\n",
        "if missing_columns:\n",
        "    print(\"The following columns are missing from the dataset:\", missing_columns)\n",
        "    exit()\n",
        "\n",
        "# Preprocess data: fill missing values for numeric columns only\n",
        "numeric_data = data.select_dtypes(include=np.number)\n",
        "mean_values = numeric_data.mean()\n",
        "data.fillna(mean_values, inplace=True)\n",
        "\n",
        "# Split data into features (X) and target (y)\n",
        "X = data[features]\n",
        "y = data[target]\n",
        "\n",
        "# Split data into training and test sets\n",
        "X_train, X_test, y_train, y_test = train_test_split(X, y, test_size=0.2, random_state=42)\n",
        "\n",
        "# Initialize and train the Decision Tree Classifier\n",
        "dt_classifier = DecisionTreeClassifier(random_state=42)\n",
        "dt_classifier.fit(X_train, y_train)\n",
        "\n",
        "# Predict and evaluate the model\n",
        "y_pred = dt_classifier.predict(X_test)\n",
        "accuracy = accuracy_score(y_test, y_pred)\n",
        "conf_matrix = confusion_matrix(y_test, y_pred)\n",
        "\n",
        "# Output results\n",
        "print(\"Accuracy:\", accuracy)\n",
        "print(\"Classification Report:\\n\", classification_report(y_test, y_pred))\n",
        "print(\"Confusion Matrix:\\n\", conf_matrix)\n"
      ]
    },
    {
      "cell_type": "code",
      "source": [
        "#Random Forest Classification\n",
        "from sklearn.ensemble import RandomForestClassifier\n",
        "# Initialize the RandomForestClassifier\n",
        "rf_classifier = RandomForestClassifier(n_estimators=100, random_state=42)  # You can adjust n_estimators\n",
        "\n",
        "# Train the classifier\n",
        "rf_classifier.fit(X_train, y_train)\n",
        "# Make predictions\n",
        "y_pred_rf = rf_classifier.predict(X_test)\n",
        "\n",
        "# Evaluate the model\n",
        "accuracy_rf = accuracy_score(y_test, y_pred_rf)\n",
        "conf_matrix_rf = confusion_matrix(y_test, y_pred_rf)\n",
        "classification_report_rf = classification_report(y_test, y_pred_rf)\n",
        "\n",
        "print(\"Random Forest Accuracy:\", accuracy_rf)\n",
        "print(\"Random Forest Classification Report:\\n\", classification_report_rf)\n",
        "print(\"Random Forest Confusion Matrix:\\n\", conf_matrix_rf)\n",
        "from sklearn.tree import plot_tree\n",
        "\n",
        "# Visualize one of the trees in the forest\n",
        "tree_in_forest = rf_classifier.estimators_[0]  # Visualizing the first tree\n",
        "plot_tree(tree_in_forest, filled=True)\n"
      ],
      "metadata": {
        "colab": {
          "base_uri": "https://localhost:8080/",
          "height": 638
        },
        "id": "dJu-DVY29PJD",
        "outputId": "b570f3dc-525a-4dde-af12-4727dbb19820"
      },
      "execution_count": 2,
      "outputs": [
        {
          "output_type": "stream",
          "name": "stdout",
          "text": [
            "Random Forest Accuracy: 1.0\n",
            "Random Forest Classification Report:\n",
            "               precision    recall  f1-score   support\n",
            "\n",
            "   completed       1.00      1.00      1.00      1927\n",
            "\n",
            "    accuracy                           1.00      1927\n",
            "   macro avg       1.00      1.00      1.00      1927\n",
            "weighted avg       1.00      1.00      1.00      1927\n",
            "\n",
            "Random Forest Confusion Matrix:\n",
            " [[1927]]\n"
          ]
        },
        {
          "output_type": "execute_result",
          "data": {
            "text/plain": [
              "[Text(0.5, 0.5, 'gini = 0.0\\nsamples = 4871\\nvalue = 7708.0')]"
            ]
          },
          "metadata": {},
          "execution_count": 2
        },
        {
          "output_type": "display_data",
          "data": {
            "text/plain": [
              "<Figure size 640x480 with 1 Axes>"
            ],
            "image/png": "[encoded data removed]"
          },
          "metadata": {}
        }
      ]
    },
    {
      "cell_type": "code",
      "source": [
        "#Support Vector Machine (SVM) Classification\n",
        "import pandas as pd\n",
        "from sklearn.model_selection import train_test_split\n",
        "from sklearn import svm\n",
        "from sklearn.metrics import accuracy_score, classification_report, confusion_matrix\n",
        "\n",
        "# Assuming 'X' and 'y' are already defined\n",
        "X_train, X_test, y_train, y_test = train_test_split(X, y, test_size=0.2, random_state=42)\n",
        "# Initialize the SVM Classifier\n",
        "svm_classifier = svm.SVC(kernel='linear')  # Change kernel as needed\n",
        "\n",
        "# Train the classifier\n",
        "svm_classifier.fit(X_train, y_train)\n",
        "# Make predictions\n",
        "y_pred = svm_classifier.predict(X_test)\n",
        "\n",
        "# Evaluate the model\n",
        "accuracy = accuracy_score(y_test, y_pred)\n",
        "conf_matrix = confusion_matrix(y_test, y_pred)\n",
        "classification_report = classification_report(y_test, y_pred)\n",
        "\n",
        "print(\"SVM Accuracy:\", accuracy)\n",
        "print(\"SVM Classification Report:\\n\", classification_report)\n",
        "print(\"SVM Confusion Matrix:\\n\", conf_matrix)\n"
      ],
      "metadata": {
        "colab": {
          "base_uri": "https://localhost:8080/",
          "height": 365
        },
        "id": "Mt6Xci_R9bc-",
        "outputId": "e7abc6a8-f510-4ff0-c2da-815739c1f9a0"
      },
      "execution_count": 3,
      "outputs": [
        {
          "output_type": "error",
          "ename": "ValueError",
          "evalue": "The number of classes has to be greater than one; got 1 class",
          "traceback": [
            "\u001b[0;31m---------------------------------------------------------------------------\u001b[0m",
            "\u001b[0;31mValueError\u001b[0m                                Traceback (most recent call last)",
            "\u001b[0;32m<ipython-input-3-7de6cc937823>\u001b[0m in \u001b[0;36m<cell line: 13>\u001b[0;34m()\u001b[0m\n\u001b[1;32m     11\u001b[0m \u001b[0;34m\u001b[0m\u001b[0m\n\u001b[1;32m     12\u001b[0m \u001b[0;31m# Train the classifier\u001b[0m\u001b[0;34m\u001b[0m\u001b[0;34m\u001b[0m\u001b[0m\n\u001b[0;32m---> 13\u001b[0;31m \u001b[0msvm_classifier\u001b[0m\u001b[0;34m.\u001b[0m\u001b[0mfit\u001b[0m\u001b[0;34m(\u001b[0m\u001b[0mX_train\u001b[0m\u001b[0;34m,\u001b[0m \u001b[0my_train\u001b[0m\u001b[0;34m)\u001b[0m\u001b[0;34m\u001b[0m\u001b[0;34m\u001b[0m\u001b[0m\n\u001b[0m\u001b[1;32m     14\u001b[0m \u001b[0;31m# Make predictions\u001b[0m\u001b[0;34m\u001b[0m\u001b[0;34m\u001b[0m\u001b[0m\n\u001b[1;32m     15\u001b[0m \u001b[0my_pred\u001b[0m \u001b[0;34m=\u001b[0m \u001b[0msvm_classifier\u001b[0m\u001b[0;34m.\u001b[0m\u001b[0mpredict\u001b[0m\u001b[0;34m(\u001b[0m\u001b[0mX_test\u001b[0m\u001b[0;34m)\u001b[0m\u001b[0;34m\u001b[0m\u001b[0;34m\u001b[0m\u001b[0m\n",
            "\u001b[0;32m/usr/local/lib/python3.10/dist-packages/sklearn/base.py\u001b[0m in \u001b[0;36mwrapper\u001b[0;34m(estimator, *args, **kwargs)\u001b[0m\n\u001b[1;32m   1150\u001b[0m                 )\n\u001b[1;32m   1151\u001b[0m             ):\n\u001b[0;32m-> 1152\u001b[0;31m                 \u001b[0;32mreturn\u001b[0m \u001b[0mfit_method\u001b[0m\u001b[0;34m(\u001b[0m\u001b[0mestimator\u001b[0m\u001b[0;34m,\u001b[0m \u001b[0;34m*\u001b[0m\u001b[0margs\u001b[0m\u001b[0;34m,\u001b[0m \u001b[0;34m**\u001b[0m\u001b[0mkwargs\u001b[0m\u001b[0;34m)\u001b[0m\u001b[0;34m\u001b[0m\u001b[0;34m\u001b[0m\u001b[0m\n\u001b[0m\u001b[1;32m   1153\u001b[0m \u001b[0;34m\u001b[0m\u001b[0m\n\u001b[1;32m   1154\u001b[0m         \u001b[0;32mreturn\u001b[0m \u001b[0mwrapper\u001b[0m\u001b[0;34m\u001b[0m\u001b[0;34m\u001b[0m\u001b[0m\n",
            "\u001b[0;32m/usr/local/lib/python3.10/dist-packages/sklearn/svm/_base.py\u001b[0m in \u001b[0;36mfit\u001b[0;34m(self, X, y, sample_weight)\u001b[0m\n\u001b[1;32m    197\u001b[0m             )\n\u001b[1;32m    198\u001b[0m \u001b[0;34m\u001b[0m\u001b[0m\n\u001b[0;32m--> 199\u001b[0;31m         \u001b[0my\u001b[0m \u001b[0;34m=\u001b[0m \u001b[0mself\u001b[0m\u001b[0;34m.\u001b[0m\u001b[0m_validate_targets\u001b[0m\u001b[0;34m(\u001b[0m\u001b[0my\u001b[0m\u001b[0;34m)\u001b[0m\u001b[0;34m\u001b[0m\u001b[0;34m\u001b[0m\u001b[0m\n\u001b[0m\u001b[1;32m    200\u001b[0m \u001b[0;34m\u001b[0m\u001b[0m\n\u001b[1;32m    201\u001b[0m         sample_weight = np.asarray(\n",
            "\u001b[0;32m/usr/local/lib/python3.10/dist-packages/sklearn/svm/_base.py\u001b[0m in \u001b[0;36m_validate_targets\u001b[0;34m(self, y)\u001b[0m\n\u001b[1;32m    745\u001b[0m         \u001b[0mself\u001b[0m\u001b[0;34m.\u001b[0m\u001b[0mclass_weight_\u001b[0m \u001b[0;34m=\u001b[0m \u001b[0mcompute_class_weight\u001b[0m\u001b[0;34m(\u001b[0m\u001b[0mself\u001b[0m\u001b[0;34m.\u001b[0m\u001b[0mclass_weight\u001b[0m\u001b[0;34m,\u001b[0m \u001b[0mclasses\u001b[0m\u001b[0;34m=\u001b[0m\u001b[0mcls\u001b[0m\u001b[0;34m,\u001b[0m \u001b[0my\u001b[0m\u001b[0;34m=\u001b[0m\u001b[0my_\u001b[0m\u001b[0;34m)\u001b[0m\u001b[0;34m\u001b[0m\u001b[0;34m\u001b[0m\u001b[0m\n\u001b[1;32m    746\u001b[0m         \u001b[0;32mif\u001b[0m \u001b[0mlen\u001b[0m\u001b[0;34m(\u001b[0m\u001b[0mcls\u001b[0m\u001b[0;34m)\u001b[0m \u001b[0;34m<\u001b[0m \u001b[0;36m2\u001b[0m\u001b[0;34m:\u001b[0m\u001b[0;34m\u001b[0m\u001b[0;34m\u001b[0m\u001b[0m\n\u001b[0;32m--> 747\u001b[0;31m             raise ValueError(\n\u001b[0m\u001b[1;32m    748\u001b[0m                 \u001b[0;34m\"The number of classes has to be greater than one; got %d class\"\u001b[0m\u001b[0;34m\u001b[0m\u001b[0;34m\u001b[0m\u001b[0m\n\u001b[1;32m    749\u001b[0m                 \u001b[0;34m%\u001b[0m \u001b[0mlen\u001b[0m\u001b[0;34m(\u001b[0m\u001b[0mcls\u001b[0m\u001b[0;34m)\u001b[0m\u001b[0;34m\u001b[0m\u001b[0;34m\u001b[0m\u001b[0m\n",
            "\u001b[0;31mValueError\u001b[0m: The number of classes has to be greater than one; got 1 class"
          ]
        }
      ]
    },
    {
      "cell_type": "code",
      "source": [
        "#K-Nearest Neighbors (KNN) Classification\n",
        "import pandas as pd\n",
        "from sklearn.model_selection import train_test_split\n",
        "from sklearn.neighbors import KNeighborsClassifier\n",
        "from sklearn.metrics import accuracy_score, classification_report, confusion_matrix\n",
        "from sklearn.preprocessing import StandardScaler\n",
        "\n",
        "# Load data\n",
        "data = pd.read_excel('/content/completed_orders_with_scores.xlsx')  # Adjust the path to your file\n",
        "\n",
        "# Define numeric and categorical features\n",
        "numeric_features = ['source points ', 'status points ', 'gro region point ', 'source detail points ',\n",
        "                    'drop geo region points', 'platform point ']  # Adjust if there are changes\n",
        "categorical_features = []  # Add any categorical feature names\n",
        "\n",
        "# Handle missing values\n",
        "numeric_columns = data[numeric_features].select_dtypes(include=['number'])\n",
        "means = numeric_columns.mean()\n",
        "data[numeric_features] = numeric_columns.fillna(means)\n",
        "\n",
        "if categorical_features:\n",
        "    categorical_columns = data[categorical_features]\n",
        "    modes = categorical_columns.mode().iloc[0]\n",
        "    data[categorical_features] = categorical_columns.fillna(modes)\n",
        "\n",
        "# Assume 'target' is your target variable\n",
        "target = 'score'\n",
        "\n",
        "# Split data into features (X) and target (y)\n",
        "X = data[numeric_features]\n",
        "y = data[target]\n",
        "\n",
        "# Scale the features\n",
        "scaler = StandardScaler()\n",
        "X_scaled = scaler.fit_transform(X)\n",
        "\n",
        "# Split the scaled data into training and testing sets\n",
        "X_train, X_test, y_train, y_test = train_test_split(X_scaled, y, test_size=0.2, random_state=42)\n",
        "\n",
        "# Initialize the KNN Classifier\n",
        "knn_classifier = KNeighborsClassifier(n_neighbors=5)\n",
        "\n",
        "# Train the classifier\n",
        "knn_classifier.fit(X_train, y_train)\n",
        "\n",
        "# Make predictions and evaluate the model\n",
        "y_pred = knn_classifier.predict(X_test)\n",
        "accuracy = accuracy_score(y_test, y_pred)\n",
        "conf_matrix = confusion_matrix(y_test, y_pred)\n",
        "classification_report = classification_report(y_test, y_pred)\n",
        "\n",
        "# Print results\n",
        "print(\"KNN Accuracy:\", accuracy)\n",
        "print(\"KNN Classification Report:\\n\", classification_report)\n",
        "print(\"KNN Confusion Matrix:\\n\", conf_matrix)\n",
        "\n"
      ],
      "metadata": {
        "colab": {
          "base_uri": "https://localhost:8080/"
        },
        "id": "uxv2yTTi9nyi",
        "outputId": "c0d7e733-2350-4b55-866f-5f3992be04f3"
      },
      "execution_count": 6,
      "outputs": [
        {
          "output_type": "stream",
          "name": "stdout",
          "text": [
            "KNN Accuracy: 0.6133886870783601\n",
            "KNN Classification Report:\n",
            "               precision    recall  f1-score   support\n",
            "\n",
            "          11       0.00      0.00      0.00         2\n",
            "          12       1.00      1.00      1.00         7\n",
            "          13       1.00      0.60      0.75         5\n",
            "          14       0.74      0.84      0.78        37\n",
            "          15       0.33      0.21      0.26        14\n",
            "          16       0.64      0.89      0.74        18\n",
            "          17       0.52      0.79      0.63        28\n",
            "          18       0.57      0.25      0.35        16\n",
            "          19       0.50      0.25      0.33         4\n",
            "          20       0.50      0.33      0.40         3\n",
            "          21       0.60      0.60      0.60         5\n",
            "          22       0.75      0.50      0.60         6\n",
            "          23       0.40      0.67      0.50         6\n",
            "          24       0.78      0.58      0.67        12\n",
            "          25       0.60      1.00      0.75        15\n",
            "          26       0.71      0.71      0.71         7\n",
            "          27       0.64      0.82      0.72        17\n",
            "          28       0.45      0.68      0.54        19\n",
            "          29       0.62      0.81      0.70        31\n",
            "          30       0.69      0.67      0.68        52\n",
            "          31       0.63      0.84      0.72        79\n",
            "          32       0.64      0.68      0.66        53\n",
            "          33       0.54      0.74      0.62        93\n",
            "          34       0.59      0.70      0.64        83\n",
            "          35       0.59      0.80      0.68       118\n",
            "          36       0.65      0.70      0.68       116\n",
            "          37       0.56      0.70      0.62       149\n",
            "          38       0.68      0.73      0.70       201\n",
            "          39       0.71      0.80      0.75       245\n",
            "          40       0.67      0.43      0.52        82\n",
            "          41       0.60      0.36      0.45        91\n",
            "          42       0.42      0.17      0.25        80\n",
            "          43       0.45      0.42      0.43        81\n",
            "          44       0.00      0.00      0.00        60\n",
            "          45       0.24      0.08      0.12        48\n",
            "          46       0.14      0.03      0.06        29\n",
            "          47       0.00      0.00      0.00        10\n",
            "          48       0.00      0.00      0.00         5\n",
            "\n",
            "    accuracy                           0.61      1927\n",
            "   macro avg       0.53      0.54      0.52      1927\n",
            "weighted avg       0.57      0.61      0.58      1927\n",
            "\n",
            "KNN Confusion Matrix:\n",
            " [[0 0 0 ... 0 0 0]\n",
            " [0 7 0 ... 0 0 0]\n",
            " [0 0 3 ... 0 0 0]\n",
            " ...\n",
            " [0 0 0 ... 1 0 0]\n",
            " [0 0 0 ... 0 0 0]\n",
            " [0 0 0 ... 0 0 0]]\n"
          ]
        },
        {
          "output_type": "stream",
          "name": "stderr",
          "text": [
            "/usr/local/lib/python3.10/dist-packages/sklearn/metrics/_classification.py:1471: UndefinedMetricWarning: Precision and F-score are ill-defined and being set to 0.0 in labels with no predicted samples. Use `zero_division` parameter to control this behavior.\n",
            "  _warn_prf(average, modifier, msg_start, len(result))\n",
            "/usr/local/lib/python3.10/dist-packages/sklearn/metrics/_classification.py:1471: UndefinedMetricWarning: Precision and F-score are ill-defined and being set to 0.0 in labels with no predicted samples. Use `zero_division` parameter to control this behavior.\n",
            "  _warn_prf(average, modifier, msg_start, len(result))\n",
            "/usr/local/lib/python3.10/dist-packages/sklearn/metrics/_classification.py:1471: UndefinedMetricWarning: Precision and F-score are ill-defined and being set to 0.0 in labels with no predicted samples. Use `zero_division` parameter to control this behavior.\n",
            "  _warn_prf(average, modifier, msg_start, len(result))\n"
          ]
        }
      ]
    }
  ]
}